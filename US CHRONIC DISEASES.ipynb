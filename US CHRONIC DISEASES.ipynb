{
 "cells": [
  {
   "cell_type": "code",
   "execution_count": 1,
   "id": "fatty-citizenship",
   "metadata": {},
   "outputs": [
    {
     "name": "stderr",
     "output_type": "stream",
     "text": [
      "\n",
      "Attaching package: 'dplyr'\n",
      "\n",
      "\n",
      "The following objects are masked from 'package:stats':\n",
      "\n",
      "    filter, lag\n",
      "\n",
      "\n",
      "The following objects are masked from 'package:base':\n",
      "\n",
      "    intersect, setdiff, setequal, union\n",
      "\n",
      "\n",
      "Warning message:\n",
      "\"package 'ggplot2' was built under R version 3.6.3\"\n"
     ]
    }
   ],
   "source": [
    "library(dplyr)\n",
    "library(ggplot2)\n",
    "library(stringr)\n",
    "library(tidyr)\n",
    "library(readr)"
   ]
  },
  {
   "cell_type": "markdown",
   "id": "comparable-facility",
   "metadata": {},
   "source": [
    "dataset link : https://chronicdata.cdc.gov/Chronic-Disease-Indicators/U-S-Chronic-Disease-Indicators-CDI-/g4ie-h725"
   ]
  },
  {
   "cell_type": "code",
   "execution_count": 2,
   "id": "crucial-valley",
   "metadata": {},
   "outputs": [
    {
     "name": "stderr",
     "output_type": "stream",
     "text": [
      "Parsed with column specification:\n",
      "cols(\n",
      "  .default = col_character(),\n",
      "  YearStart = \u001b[32mcol_double()\u001b[39m,\n",
      "  YearEnd = \u001b[32mcol_double()\u001b[39m,\n",
      "  Response = \u001b[33mcol_logical()\u001b[39m,\n",
      "  DataValueAlt = \u001b[32mcol_double()\u001b[39m,\n",
      "  LowConfidenceLimit = \u001b[32mcol_double()\u001b[39m,\n",
      "  HighConfidenceLimit = \u001b[32mcol_double()\u001b[39m,\n",
      "  StratificationCategory2 = \u001b[33mcol_logical()\u001b[39m,\n",
      "  Stratification2 = \u001b[33mcol_logical()\u001b[39m,\n",
      "  StratificationCategory3 = \u001b[33mcol_logical()\u001b[39m,\n",
      "  Stratification3 = \u001b[33mcol_logical()\u001b[39m,\n",
      "  ResponseID = \u001b[33mcol_logical()\u001b[39m,\n",
      "  LocationID = \u001b[32mcol_double()\u001b[39m,\n",
      "  StratificationCategoryID2 = \u001b[33mcol_logical()\u001b[39m,\n",
      "  StratificationID2 = \u001b[33mcol_logical()\u001b[39m,\n",
      "  StratificationCategoryID3 = \u001b[33mcol_logical()\u001b[39m,\n",
      "  StratificationID3 = \u001b[33mcol_logical()\u001b[39m\n",
      ")\n",
      "\n",
      "See spec(...) for full column specifications.\n",
      "\n"
     ]
    }
   ],
   "source": [
    "df=read_csv(\"CDI.csv\")"
   ]
  },
  {
   "cell_type": "code",
   "execution_count": 3,
   "id": "pediatric-parcel",
   "metadata": {},
   "outputs": [
    {
     "data": {
      "text/html": [
       "<table>\n",
       "<thead><tr><th scope=col>YearStart</th><th scope=col>YearEnd</th><th scope=col>LocationAbbr</th><th scope=col>LocationDesc</th><th scope=col>DataSource</th><th scope=col>Topic</th><th scope=col>Question</th><th scope=col>Response</th><th scope=col>DataValueUnit</th><th scope=col>DataValueType</th><th scope=col>...</th><th scope=col>LocationID</th><th scope=col>TopicID</th><th scope=col>QuestionID</th><th scope=col>DataValueTypeID</th><th scope=col>StratificationCategoryID1</th><th scope=col>StratificationID1</th><th scope=col>StratificationCategoryID2</th><th scope=col>StratificationID2</th><th scope=col>StratificationCategoryID3</th><th scope=col>StratificationID3</th></tr></thead>\n",
       "<tbody>\n",
       "\t<tr><td>2010                                            </td><td>2014                                            </td><td>AK                                              </td><td>Alaska                                          </td><td>Death Certificate                               </td><td>Cancer                                          </td><td>Cancer of the oral cavity and pharynx, mortality</td><td>NA                                              </td><td>NA                                              </td><td>Average Annual Number                           </td><td>...                                             </td><td> 2                                              </td><td>CAN                                             </td><td>CAN10_2                                         </td><td>AVGANNNMBR                                      </td><td>GENDER                                          </td><td>GENF                                            </td><td>NA                                              </td><td>NA                                              </td><td>NA                                              </td><td>NA                                              </td></tr>\n",
       "\t<tr><td>2010                                            </td><td>2014                                            </td><td>AK                                              </td><td>Alaska                                          </td><td>Death Certificate                               </td><td>Cancer                                          </td><td>Cancer of the oral cavity and pharynx, mortality</td><td>NA                                              </td><td>NA                                              </td><td>Average Annual Number                           </td><td>...                                             </td><td> 2                                              </td><td>CAN                                             </td><td>CAN10_2                                         </td><td>AVGANNNMBR                                      </td><td>OVERALL                                         </td><td>OVR                                             </td><td>NA                                              </td><td>NA                                              </td><td>NA                                              </td><td>NA                                              </td></tr>\n",
       "\t<tr><td>2010                                            </td><td>2014                                            </td><td>AZ                                              </td><td>Arizona                                         </td><td>Death Certificate                               </td><td>Cancer                                          </td><td>Cancer of the oral cavity and pharynx, mortality</td><td>NA                                              </td><td>NA                                              </td><td>Average Annual Number                           </td><td>...                                             </td><td> 4                                              </td><td>CAN                                             </td><td>CAN10_2                                         </td><td>AVGANNNMBR                                      </td><td>GENDER                                          </td><td>GENM                                            </td><td>NA                                              </td><td>NA                                              </td><td>NA                                              </td><td>NA                                              </td></tr>\n",
       "\t<tr><td>2008                                            </td><td>2012                                            </td><td>NY                                              </td><td>New York                                        </td><td>Death Certificate                               </td><td>Cancer                                          </td><td>Cancer of the oral cavity and pharynx, mortality</td><td>NA                                              </td><td>NA                                              </td><td>Average Annual Number                           </td><td>...                                             </td><td>36                                              </td><td>CAN                                             </td><td>CAN10_2                                         </td><td>AVGANNNMBR                                      </td><td>GENDER                                          </td><td>GENM                                            </td><td>NA                                              </td><td>NA                                              </td><td>NA                                              </td><td>NA                                              </td></tr>\n",
       "\t<tr><td>2009                                            </td><td>2013                                            </td><td>NY                                              </td><td>New York                                        </td><td>Death Certificate                               </td><td>Cancer                                          </td><td>Cancer of the oral cavity and pharynx, mortality</td><td>NA                                              </td><td>NA                                              </td><td>Average Annual Number                           </td><td>...                                             </td><td>36                                              </td><td>CAN                                             </td><td>CAN10_2                                         </td><td>AVGANNNMBR                                      </td><td>GENDER                                          </td><td>GENM                                            </td><td>NA                                              </td><td>NA                                              </td><td>NA                                              </td><td>NA                                              </td></tr>\n",
       "</tbody>\n",
       "</table>\n"
      ],
      "text/latex": [
       "\\begin{tabular}{r|llllllllllllllllllllllllllllllllll}\n",
       " YearStart & YearEnd & LocationAbbr & LocationDesc & DataSource & Topic & Question & Response & DataValueUnit & DataValueType & ... & LocationID & TopicID & QuestionID & DataValueTypeID & StratificationCategoryID1 & StratificationID1 & StratificationCategoryID2 & StratificationID2 & StratificationCategoryID3 & StratificationID3\\\\\n",
       "\\hline\n",
       "\t 2010                                             & 2014                                             & AK                                               & Alaska                                           & Death Certificate                                & Cancer                                           & Cancer of the oral cavity and pharynx, mortality & NA                                               & NA                                               & Average Annual Number                            & ...                                              &  2                                               & CAN                                              & CAN10\\_2                                        & AVGANNNMBR                                       & GENDER                                           & GENF                                             & NA                                               & NA                                               & NA                                               & NA                                              \\\\\n",
       "\t 2010                                             & 2014                                             & AK                                               & Alaska                                           & Death Certificate                                & Cancer                                           & Cancer of the oral cavity and pharynx, mortality & NA                                               & NA                                               & Average Annual Number                            & ...                                              &  2                                               & CAN                                              & CAN10\\_2                                        & AVGANNNMBR                                       & OVERALL                                          & OVR                                              & NA                                               & NA                                               & NA                                               & NA                                              \\\\\n",
       "\t 2010                                             & 2014                                             & AZ                                               & Arizona                                          & Death Certificate                                & Cancer                                           & Cancer of the oral cavity and pharynx, mortality & NA                                               & NA                                               & Average Annual Number                            & ...                                              &  4                                               & CAN                                              & CAN10\\_2                                        & AVGANNNMBR                                       & GENDER                                           & GENM                                             & NA                                               & NA                                               & NA                                               & NA                                              \\\\\n",
       "\t 2008                                             & 2012                                             & NY                                               & New York                                         & Death Certificate                                & Cancer                                           & Cancer of the oral cavity and pharynx, mortality & NA                                               & NA                                               & Average Annual Number                            & ...                                              & 36                                               & CAN                                              & CAN10\\_2                                        & AVGANNNMBR                                       & GENDER                                           & GENM                                             & NA                                               & NA                                               & NA                                               & NA                                              \\\\\n",
       "\t 2009                                             & 2013                                             & NY                                               & New York                                         & Death Certificate                                & Cancer                                           & Cancer of the oral cavity and pharynx, mortality & NA                                               & NA                                               & Average Annual Number                            & ...                                              & 36                                               & CAN                                              & CAN10\\_2                                        & AVGANNNMBR                                       & GENDER                                           & GENM                                             & NA                                               & NA                                               & NA                                               & NA                                              \\\\\n",
       "\\end{tabular}\n"
      ],
      "text/markdown": [
       "\n",
       "| YearStart | YearEnd | LocationAbbr | LocationDesc | DataSource | Topic | Question | Response | DataValueUnit | DataValueType | ... | LocationID | TopicID | QuestionID | DataValueTypeID | StratificationCategoryID1 | StratificationID1 | StratificationCategoryID2 | StratificationID2 | StratificationCategoryID3 | StratificationID3 |\n",
       "|---|---|---|---|---|---|---|---|---|---|---|---|---|---|---|---|---|---|---|---|---|\n",
       "| 2010                                             | 2014                                             | AK                                               | Alaska                                           | Death Certificate                                | Cancer                                           | Cancer of the oral cavity and pharynx, mortality | NA                                               | NA                                               | Average Annual Number                            | ...                                              |  2                                               | CAN                                              | CAN10_2                                          | AVGANNNMBR                                       | GENDER                                           | GENF                                             | NA                                               | NA                                               | NA                                               | NA                                               |\n",
       "| 2010                                             | 2014                                             | AK                                               | Alaska                                           | Death Certificate                                | Cancer                                           | Cancer of the oral cavity and pharynx, mortality | NA                                               | NA                                               | Average Annual Number                            | ...                                              |  2                                               | CAN                                              | CAN10_2                                          | AVGANNNMBR                                       | OVERALL                                          | OVR                                              | NA                                               | NA                                               | NA                                               | NA                                               |\n",
       "| 2010                                             | 2014                                             | AZ                                               | Arizona                                          | Death Certificate                                | Cancer                                           | Cancer of the oral cavity and pharynx, mortality | NA                                               | NA                                               | Average Annual Number                            | ...                                              |  4                                               | CAN                                              | CAN10_2                                          | AVGANNNMBR                                       | GENDER                                           | GENM                                             | NA                                               | NA                                               | NA                                               | NA                                               |\n",
       "| 2008                                             | 2012                                             | NY                                               | New York                                         | Death Certificate                                | Cancer                                           | Cancer of the oral cavity and pharynx, mortality | NA                                               | NA                                               | Average Annual Number                            | ...                                              | 36                                               | CAN                                              | CAN10_2                                          | AVGANNNMBR                                       | GENDER                                           | GENM                                             | NA                                               | NA                                               | NA                                               | NA                                               |\n",
       "| 2009                                             | 2013                                             | NY                                               | New York                                         | Death Certificate                                | Cancer                                           | Cancer of the oral cavity and pharynx, mortality | NA                                               | NA                                               | Average Annual Number                            | ...                                              | 36                                               | CAN                                              | CAN10_2                                          | AVGANNNMBR                                       | GENDER                                           | GENM                                             | NA                                               | NA                                               | NA                                               | NA                                               |\n",
       "\n"
      ],
      "text/plain": [
       "  YearStart YearEnd LocationAbbr LocationDesc DataSource        Topic \n",
       "1 2010      2014    AK           Alaska       Death Certificate Cancer\n",
       "2 2010      2014    AK           Alaska       Death Certificate Cancer\n",
       "3 2010      2014    AZ           Arizona      Death Certificate Cancer\n",
       "4 2008      2012    NY           New York     Death Certificate Cancer\n",
       "5 2009      2013    NY           New York     Death Certificate Cancer\n",
       "  Question                                         Response DataValueUnit\n",
       "1 Cancer of the oral cavity and pharynx, mortality NA       NA           \n",
       "2 Cancer of the oral cavity and pharynx, mortality NA       NA           \n",
       "3 Cancer of the oral cavity and pharynx, mortality NA       NA           \n",
       "4 Cancer of the oral cavity and pharynx, mortality NA       NA           \n",
       "5 Cancer of the oral cavity and pharynx, mortality NA       NA           \n",
       "  DataValueType         ... LocationID TopicID QuestionID DataValueTypeID\n",
       "1 Average Annual Number ...  2         CAN     CAN10_2    AVGANNNMBR     \n",
       "2 Average Annual Number ...  2         CAN     CAN10_2    AVGANNNMBR     \n",
       "3 Average Annual Number ...  4         CAN     CAN10_2    AVGANNNMBR     \n",
       "4 Average Annual Number ... 36         CAN     CAN10_2    AVGANNNMBR     \n",
       "5 Average Annual Number ... 36         CAN     CAN10_2    AVGANNNMBR     \n",
       "  StratificationCategoryID1 StratificationID1 StratificationCategoryID2\n",
       "1 GENDER                    GENF              NA                       \n",
       "2 OVERALL                   OVR               NA                       \n",
       "3 GENDER                    GENM              NA                       \n",
       "4 GENDER                    GENM              NA                       \n",
       "5 GENDER                    GENM              NA                       \n",
       "  StratificationID2 StratificationCategoryID3 StratificationID3\n",
       "1 NA                NA                        NA               \n",
       "2 NA                NA                        NA               \n",
       "3 NA                NA                        NA               \n",
       "4 NA                NA                        NA               \n",
       "5 NA                NA                        NA               "
      ]
     },
     "metadata": {},
     "output_type": "display_data"
    }
   ],
   "source": [
    "head(df,5)"
   ]
  },
  {
   "cell_type": "code",
   "execution_count": 4,
   "id": "understanding-queens",
   "metadata": {},
   "outputs": [
    {
     "data": {
      "text/html": [
       "<ol class=list-inline>\n",
       "\t<li>956638</li>\n",
       "\t<li>34</li>\n",
       "</ol>\n"
      ],
      "text/latex": [
       "\\begin{enumerate*}\n",
       "\\item 956638\n",
       "\\item 34\n",
       "\\end{enumerate*}\n"
      ],
      "text/markdown": [
       "1. 956638\n",
       "2. 34\n",
       "\n",
       "\n"
      ],
      "text/plain": [
       "[1] 956638     34"
      ]
     },
     "metadata": {},
     "output_type": "display_data"
    }
   ],
   "source": [
    "dim(df)"
   ]
  },
  {
   "cell_type": "markdown",
   "id": "harmful-terminal",
   "metadata": {},
   "source": [
    "To check missing values in each column"
   ]
  },
  {
   "cell_type": "code",
   "execution_count": 5,
   "id": "northern-material",
   "metadata": {},
   "outputs": [],
   "source": [
    "missing_values <- apply(df, 2, function(x) sum(is.na(x)| x == ''))"
   ]
  },
  {
   "cell_type": "code",
   "execution_count": 6,
   "id": "rational-pride",
   "metadata": {},
   "outputs": [
    {
     "name": "stdout",
     "output_type": "stream",
     "text": [
      "                YearStart                   YearEnd              LocationAbbr \n",
      "                        0                         0                         0 \n",
      "             LocationDesc                DataSource                     Topic \n",
      "                        0                         0                         0 \n",
      "                 Question                  Response             DataValueUnit \n",
      "                        0                    956638                    125700 \n",
      "            DataValueType                 DataValue              DataValueAlt \n",
      "                        0                    310598                    312425 \n",
      "  DataValueFootnoteSymbol         DatavalueFootnote        LowConfidenceLimit \n",
      "                   632998                    632998                    407694 \n",
      "      HighConfidenceLimit   StratificationCategory1           Stratification1 \n",
      "                   407694                         0                         0 \n",
      "  StratificationCategory2           Stratification2   StratificationCategory3 \n",
      "                   956638                    956638                    956638 \n",
      "          Stratification3               GeoLocation                ResponseID \n",
      "                   956638                      8072                    956638 \n",
      "               LocationID                   TopicID                QuestionID \n",
      "                        0                         0                         0 \n",
      "          DataValueTypeID StratificationCategoryID1         StratificationID1 \n",
      "                        0                         0                         0 \n",
      "StratificationCategoryID2         StratificationID2 StratificationCategoryID3 \n",
      "                   956638                    956638                    956638 \n",
      "        StratificationID3 \n",
      "                   956638 \n"
     ]
    }
   ],
   "source": [
    "print(missing_values)"
   ]
  },
  {
   "cell_type": "markdown",
   "id": "confused-bulgarian",
   "metadata": {},
   "source": [
    "check the number of unique values for each column"
   ]
  },
  {
   "cell_type": "code",
   "execution_count": 7,
   "id": "historic-prime",
   "metadata": {},
   "outputs": [],
   "source": [
    "unique_values <- apply(df, 2, function(x) length(unique(x)))"
   ]
  },
  {
   "cell_type": "code",
   "execution_count": 8,
   "id": "retained-classic",
   "metadata": {},
   "outputs": [
    {
     "name": "stdout",
     "output_type": "stream",
     "text": [
      "                YearStart                   YearEnd              LocationAbbr \n",
      "                       15                        15                        55 \n",
      "             LocationDesc                DataSource                     Topic \n",
      "                       55                        32                        17 \n",
      "                 Question                  Response             DataValueUnit \n",
      "                      203                         1                        13 \n",
      "            DataValueType                 DataValue              DataValueAlt \n",
      "                       19                     37042                     37031 \n",
      "  DataValueFootnoteSymbol         DatavalueFootnote        LowConfidenceLimit \n",
      "                       18                        19                     20501 \n",
      "      HighConfidenceLimit   StratificationCategory1           Stratification1 \n",
      "                    21920                         3                        11 \n",
      "  StratificationCategory2           Stratification2   StratificationCategory3 \n",
      "                        1                         1                         1 \n",
      "          Stratification3               GeoLocation                ResponseID \n",
      "                        1                        55                         1 \n",
      "               LocationID                   TopicID                QuestionID \n",
      "                       55                        17                       203 \n",
      "          DataValueTypeID StratificationCategoryID1         StratificationID1 \n",
      "                       19                         3                        13 \n",
      "StratificationCategoryID2         StratificationID2 StratificationCategoryID3 \n",
      "                        1                         1                         1 \n",
      "        StratificationID3 \n",
      "                        1 \n"
     ]
    }
   ],
   "source": [
    "print(unique_values)"
   ]
  },
  {
   "cell_type": "markdown",
   "id": "planned-communication",
   "metadata": {},
   "source": [
    "DATA UNDERSTANDING"
   ]
  },
  {
   "cell_type": "code",
   "execution_count": 9,
   "id": "rental-today",
   "metadata": {},
   "outputs": [
    {
     "name": "stdout",
     "output_type": "stream",
     "text": [
      "Observations: 956,638\n",
      "Variables: 34\n",
      "$ YearStart                 \u001b[3m\u001b[90m<dbl>\u001b[39m\u001b[23m 2010, 2010, 2010, 2008, 2009, 2011, 2012,...\n",
      "$ YearEnd                   \u001b[3m\u001b[90m<dbl>\u001b[39m\u001b[23m 2014, 2014, 2014, 2012, 2013, 2015, 2016,...\n",
      "$ LocationAbbr              \u001b[3m\u001b[90m<chr>\u001b[39m\u001b[23m \"AK\", \"AK\", \"AZ\", \"NY\", \"NY\", \"NY\", \"NY\",...\n",
      "$ LocationDesc              \u001b[3m\u001b[90m<chr>\u001b[39m\u001b[23m \"Alaska\", \"Alaska\", \"Arizona\", \"New York\"...\n",
      "$ DataSource                \u001b[3m\u001b[90m<chr>\u001b[39m\u001b[23m \"Death Certificate\", \"Death Certificate\",...\n",
      "$ Topic                     \u001b[3m\u001b[90m<chr>\u001b[39m\u001b[23m \"Cancer\", \"Cancer\", \"Cancer\", \"Cancer\", \"...\n",
      "$ Question                  \u001b[3m\u001b[90m<chr>\u001b[39m\u001b[23m \"Cancer of the oral cavity and pharynx, m...\n",
      "$ Response                  \u001b[3m\u001b[90m<lgl>\u001b[39m\u001b[23m NA, NA, NA, NA, NA, NA, NA, NA, NA, NA, N...\n",
      "$ DataValueUnit             \u001b[3m\u001b[90m<chr>\u001b[39m\u001b[23m NA, NA, NA, NA, NA, NA, NA, NA, NA, NA, N...\n",
      "$ DataValueType             \u001b[3m\u001b[90m<chr>\u001b[39m\u001b[23m \"Average Annual Number\", \"Average Annual ...\n",
      "$ DataValue                 \u001b[3m\u001b[90m<chr>\u001b[39m\u001b[23m \"3\", \"15\", \"109\", \"329\", \"336\", \"344\", \"3...\n",
      "$ DataValueAlt              \u001b[3m\u001b[90m<dbl>\u001b[39m\u001b[23m 3, 15, 109, 329, 336, 344, 354, 90, 502, ...\n",
      "$ DataValueFootnoteSymbol   \u001b[3m\u001b[90m<chr>\u001b[39m\u001b[23m NA, NA, NA, NA, NA, NA, NA, NA, NA, NA, N...\n",
      "$ DatavalueFootnote         \u001b[3m\u001b[90m<chr>\u001b[39m\u001b[23m NA, NA, NA, NA, NA, NA, NA, NA, NA, NA, N...\n",
      "$ LowConfidenceLimit        \u001b[3m\u001b[90m<dbl>\u001b[39m\u001b[23m NA, NA, NA, NA, NA, NA, NA, NA, NA, NA, N...\n",
      "$ HighConfidenceLimit       \u001b[3m\u001b[90m<dbl>\u001b[39m\u001b[23m NA, NA, NA, NA, NA, NA, NA, NA, NA, NA, N...\n",
      "$ StratificationCategory1   \u001b[3m\u001b[90m<chr>\u001b[39m\u001b[23m \"Gender\", \"Overall\", \"Gender\", \"Gender\", ...\n",
      "$ Stratification1           \u001b[3m\u001b[90m<chr>\u001b[39m\u001b[23m \"Female\", \"Overall\", \"Male\", \"Male\", \"Mal...\n",
      "$ StratificationCategory2   \u001b[3m\u001b[90m<lgl>\u001b[39m\u001b[23m NA, NA, NA, NA, NA, NA, NA, NA, NA, NA, N...\n",
      "$ Stratification2           \u001b[3m\u001b[90m<lgl>\u001b[39m\u001b[23m NA, NA, NA, NA, NA, NA, NA, NA, NA, NA, N...\n",
      "$ StratificationCategory3   \u001b[3m\u001b[90m<lgl>\u001b[39m\u001b[23m NA, NA, NA, NA, NA, NA, NA, NA, NA, NA, N...\n",
      "$ Stratification3           \u001b[3m\u001b[90m<lgl>\u001b[39m\u001b[23m NA, NA, NA, NA, NA, NA, NA, NA, NA, NA, N...\n",
      "$ GeoLocation               \u001b[3m\u001b[90m<chr>\u001b[39m\u001b[23m \"POINT (-147.722059 64.84507996)\", \"POINT...\n",
      "$ ResponseID                \u001b[3m\u001b[90m<lgl>\u001b[39m\u001b[23m NA, NA, NA, NA, NA, NA, NA, NA, NA, NA, N...\n",
      "$ LocationID                \u001b[3m\u001b[90m<dbl>\u001b[39m\u001b[23m 2, 2, 4, 36, 36, 36, 36, 40, 48, 59, 8, 8...\n",
      "$ TopicID                   \u001b[3m\u001b[90m<chr>\u001b[39m\u001b[23m \"CAN\", \"CAN\", \"CAN\", \"CAN\", \"CAN\", \"CAN\",...\n",
      "$ QuestionID                \u001b[3m\u001b[90m<chr>\u001b[39m\u001b[23m \"CAN10_2\", \"CAN10_2\", \"CAN10_2\", \"CAN10_2...\n",
      "$ DataValueTypeID           \u001b[3m\u001b[90m<chr>\u001b[39m\u001b[23m \"AVGANNNMBR\", \"AVGANNNMBR\", \"AVGANNNMBR\",...\n",
      "$ StratificationCategoryID1 \u001b[3m\u001b[90m<chr>\u001b[39m\u001b[23m \"GENDER\", \"OVERALL\", \"GENDER\", \"GENDER\", ...\n",
      "$ StratificationID1         \u001b[3m\u001b[90m<chr>\u001b[39m\u001b[23m \"GENF\", \"OVR\", \"GENM\", \"GENM\", \"GENM\", \"G...\n",
      "$ StratificationCategoryID2 \u001b[3m\u001b[90m<lgl>\u001b[39m\u001b[23m NA, NA, NA, NA, NA, NA, NA, NA, NA, NA, N...\n",
      "$ StratificationID2         \u001b[3m\u001b[90m<lgl>\u001b[39m\u001b[23m NA, NA, NA, NA, NA, NA, NA, NA, NA, NA, N...\n",
      "$ StratificationCategoryID3 \u001b[3m\u001b[90m<lgl>\u001b[39m\u001b[23m NA, NA, NA, NA, NA, NA, NA, NA, NA, NA, N...\n",
      "$ StratificationID3         \u001b[3m\u001b[90m<lgl>\u001b[39m\u001b[23m NA, NA, NA, NA, NA, NA, NA, NA, NA, NA, N...\n",
      " num [1:956638] 2010 2010 2010 2008 2009 ...\n"
     ]
    },
    {
     "ename": "ERROR",
     "evalue": "Error in data$years <- as.factor(df$YearStart): object of type 'closure' is not subsettable\n",
     "output_type": "error",
     "traceback": [
      "Error in data$years <- as.factor(df$YearStart): object of type 'closure' is not subsettable\nTraceback:\n"
     ]
    }
   ],
   "source": [
    "glimpse(df)\n",
    "str(df$YearStart)\n",
    "data$years <- as.factor(df$YearStart)"
   ]
  },
  {
   "cell_type": "code",
   "execution_count": 10,
   "id": "relative-hobby",
   "metadata": {},
   "outputs": [
    {
     "data": {
      "text/html": [
       "<ol class=list-inline>\n",
       "\t<li>'YearStart'</li>\n",
       "\t<li>'YearEnd'</li>\n",
       "\t<li>'LocationAbbr'</li>\n",
       "\t<li>'LocationDesc'</li>\n",
       "\t<li>'DataSource'</li>\n",
       "\t<li>'Topic'</li>\n",
       "\t<li>'Question'</li>\n",
       "\t<li>'Response'</li>\n",
       "\t<li>'DataValueUnit'</li>\n",
       "\t<li>'DataValueType'</li>\n",
       "\t<li>'DataValue'</li>\n",
       "\t<li>'DataValueAlt'</li>\n",
       "\t<li>'DataValueFootnoteSymbol'</li>\n",
       "\t<li>'DatavalueFootnote'</li>\n",
       "\t<li>'LowConfidenceLimit'</li>\n",
       "\t<li>'HighConfidenceLimit'</li>\n",
       "\t<li>'StratificationCategory1'</li>\n",
       "\t<li>'Stratification1'</li>\n",
       "\t<li>'StratificationCategory2'</li>\n",
       "\t<li>'Stratification2'</li>\n",
       "\t<li>'StratificationCategory3'</li>\n",
       "\t<li>'Stratification3'</li>\n",
       "\t<li>'GeoLocation'</li>\n",
       "\t<li>'ResponseID'</li>\n",
       "\t<li>'LocationID'</li>\n",
       "\t<li>'TopicID'</li>\n",
       "\t<li>'QuestionID'</li>\n",
       "\t<li>'DataValueTypeID'</li>\n",
       "\t<li>'StratificationCategoryID1'</li>\n",
       "\t<li>'StratificationID1'</li>\n",
       "\t<li>'StratificationCategoryID2'</li>\n",
       "\t<li>'StratificationID2'</li>\n",
       "\t<li>'StratificationCategoryID3'</li>\n",
       "\t<li>'StratificationID3'</li>\n",
       "</ol>\n"
      ],
      "text/latex": [
       "\\begin{enumerate*}\n",
       "\\item 'YearStart'\n",
       "\\item 'YearEnd'\n",
       "\\item 'LocationAbbr'\n",
       "\\item 'LocationDesc'\n",
       "\\item 'DataSource'\n",
       "\\item 'Topic'\n",
       "\\item 'Question'\n",
       "\\item 'Response'\n",
       "\\item 'DataValueUnit'\n",
       "\\item 'DataValueType'\n",
       "\\item 'DataValue'\n",
       "\\item 'DataValueAlt'\n",
       "\\item 'DataValueFootnoteSymbol'\n",
       "\\item 'DatavalueFootnote'\n",
       "\\item 'LowConfidenceLimit'\n",
       "\\item 'HighConfidenceLimit'\n",
       "\\item 'StratificationCategory1'\n",
       "\\item 'Stratification1'\n",
       "\\item 'StratificationCategory2'\n",
       "\\item 'Stratification2'\n",
       "\\item 'StratificationCategory3'\n",
       "\\item 'Stratification3'\n",
       "\\item 'GeoLocation'\n",
       "\\item 'ResponseID'\n",
       "\\item 'LocationID'\n",
       "\\item 'TopicID'\n",
       "\\item 'QuestionID'\n",
       "\\item 'DataValueTypeID'\n",
       "\\item 'StratificationCategoryID1'\n",
       "\\item 'StratificationID1'\n",
       "\\item 'StratificationCategoryID2'\n",
       "\\item 'StratificationID2'\n",
       "\\item 'StratificationCategoryID3'\n",
       "\\item 'StratificationID3'\n",
       "\\end{enumerate*}\n"
      ],
      "text/markdown": [
       "1. 'YearStart'\n",
       "2. 'YearEnd'\n",
       "3. 'LocationAbbr'\n",
       "4. 'LocationDesc'\n",
       "5. 'DataSource'\n",
       "6. 'Topic'\n",
       "7. 'Question'\n",
       "8. 'Response'\n",
       "9. 'DataValueUnit'\n",
       "10. 'DataValueType'\n",
       "11. 'DataValue'\n",
       "12. 'DataValueAlt'\n",
       "13. 'DataValueFootnoteSymbol'\n",
       "14. 'DatavalueFootnote'\n",
       "15. 'LowConfidenceLimit'\n",
       "16. 'HighConfidenceLimit'\n",
       "17. 'StratificationCategory1'\n",
       "18. 'Stratification1'\n",
       "19. 'StratificationCategory2'\n",
       "20. 'Stratification2'\n",
       "21. 'StratificationCategory3'\n",
       "22. 'Stratification3'\n",
       "23. 'GeoLocation'\n",
       "24. 'ResponseID'\n",
       "25. 'LocationID'\n",
       "26. 'TopicID'\n",
       "27. 'QuestionID'\n",
       "28. 'DataValueTypeID'\n",
       "29. 'StratificationCategoryID1'\n",
       "30. 'StratificationID1'\n",
       "31. 'StratificationCategoryID2'\n",
       "32. 'StratificationID2'\n",
       "33. 'StratificationCategoryID3'\n",
       "34. 'StratificationID3'\n",
       "\n",
       "\n"
      ],
      "text/plain": [
       " [1] \"YearStart\"                 \"YearEnd\"                  \n",
       " [3] \"LocationAbbr\"              \"LocationDesc\"             \n",
       " [5] \"DataSource\"                \"Topic\"                    \n",
       " [7] \"Question\"                  \"Response\"                 \n",
       " [9] \"DataValueUnit\"             \"DataValueType\"            \n",
       "[11] \"DataValue\"                 \"DataValueAlt\"             \n",
       "[13] \"DataValueFootnoteSymbol\"   \"DatavalueFootnote\"        \n",
       "[15] \"LowConfidenceLimit\"        \"HighConfidenceLimit\"      \n",
       "[17] \"StratificationCategory1\"   \"Stratification1\"          \n",
       "[19] \"StratificationCategory2\"   \"Stratification2\"          \n",
       "[21] \"StratificationCategory3\"   \"Stratification3\"          \n",
       "[23] \"GeoLocation\"               \"ResponseID\"               \n",
       "[25] \"LocationID\"                \"TopicID\"                  \n",
       "[27] \"QuestionID\"                \"DataValueTypeID\"          \n",
       "[29] \"StratificationCategoryID1\" \"StratificationID1\"        \n",
       "[31] \"StratificationCategoryID2\" \"StratificationID2\"        \n",
       "[33] \"StratificationCategoryID3\" \"StratificationID3\"        "
      ]
     },
     "metadata": {},
     "output_type": "display_data"
    },
    {
     "data": {
      "text/html": [
       "<dl class=dl-horizontal>\n",
       "\t<dt>YearStart</dt>\n",
       "\t\t<dd>0</dd>\n",
       "\t<dt>YearEnd</dt>\n",
       "\t\t<dd>0</dd>\n",
       "\t<dt>LocationAbbr</dt>\n",
       "\t\t<dd>0</dd>\n",
       "\t<dt>LocationDesc</dt>\n",
       "\t\t<dd>0</dd>\n",
       "\t<dt>DataSource</dt>\n",
       "\t\t<dd>0</dd>\n",
       "\t<dt>Topic</dt>\n",
       "\t\t<dd>0</dd>\n",
       "\t<dt>Question</dt>\n",
       "\t\t<dd>0</dd>\n",
       "\t<dt>Response</dt>\n",
       "\t\t<dd>956638</dd>\n",
       "\t<dt>DataValueUnit</dt>\n",
       "\t\t<dd>125700</dd>\n",
       "\t<dt>DataValueType</dt>\n",
       "\t\t<dd>0</dd>\n",
       "\t<dt>DataValue</dt>\n",
       "\t\t<dd>310598</dd>\n",
       "\t<dt>DataValueAlt</dt>\n",
       "\t\t<dd>312425</dd>\n",
       "\t<dt>DataValueFootnoteSymbol</dt>\n",
       "\t\t<dd>632998</dd>\n",
       "\t<dt>DatavalueFootnote</dt>\n",
       "\t\t<dd>632998</dd>\n",
       "\t<dt>LowConfidenceLimit</dt>\n",
       "\t\t<dd>407694</dd>\n",
       "\t<dt>HighConfidenceLimit</dt>\n",
       "\t\t<dd>407694</dd>\n",
       "\t<dt>StratificationCategory1</dt>\n",
       "\t\t<dd>0</dd>\n",
       "\t<dt>Stratification1</dt>\n",
       "\t\t<dd>0</dd>\n",
       "\t<dt>StratificationCategory2</dt>\n",
       "\t\t<dd>956638</dd>\n",
       "\t<dt>Stratification2</dt>\n",
       "\t\t<dd>956638</dd>\n",
       "\t<dt>StratificationCategory3</dt>\n",
       "\t\t<dd>956638</dd>\n",
       "\t<dt>Stratification3</dt>\n",
       "\t\t<dd>956638</dd>\n",
       "\t<dt>GeoLocation</dt>\n",
       "\t\t<dd>8072</dd>\n",
       "\t<dt>ResponseID</dt>\n",
       "\t\t<dd>956638</dd>\n",
       "\t<dt>LocationID</dt>\n",
       "\t\t<dd>0</dd>\n",
       "\t<dt>TopicID</dt>\n",
       "\t\t<dd>0</dd>\n",
       "\t<dt>QuestionID</dt>\n",
       "\t\t<dd>0</dd>\n",
       "\t<dt>DataValueTypeID</dt>\n",
       "\t\t<dd>0</dd>\n",
       "\t<dt>StratificationCategoryID1</dt>\n",
       "\t\t<dd>0</dd>\n",
       "\t<dt>StratificationID1</dt>\n",
       "\t\t<dd>0</dd>\n",
       "\t<dt>StratificationCategoryID2</dt>\n",
       "\t\t<dd>956638</dd>\n",
       "\t<dt>StratificationID2</dt>\n",
       "\t\t<dd>956638</dd>\n",
       "\t<dt>StratificationCategoryID3</dt>\n",
       "\t\t<dd>956638</dd>\n",
       "\t<dt>StratificationID3</dt>\n",
       "\t\t<dd>956638</dd>\n",
       "</dl>\n"
      ],
      "text/latex": [
       "\\begin{description*}\n",
       "\\item[YearStart] 0\n",
       "\\item[YearEnd] 0\n",
       "\\item[LocationAbbr] 0\n",
       "\\item[LocationDesc] 0\n",
       "\\item[DataSource] 0\n",
       "\\item[Topic] 0\n",
       "\\item[Question] 0\n",
       "\\item[Response] 956638\n",
       "\\item[DataValueUnit] 125700\n",
       "\\item[DataValueType] 0\n",
       "\\item[DataValue] 310598\n",
       "\\item[DataValueAlt] 312425\n",
       "\\item[DataValueFootnoteSymbol] 632998\n",
       "\\item[DatavalueFootnote] 632998\n",
       "\\item[LowConfidenceLimit] 407694\n",
       "\\item[HighConfidenceLimit] 407694\n",
       "\\item[StratificationCategory1] 0\n",
       "\\item[Stratification1] 0\n",
       "\\item[StratificationCategory2] 956638\n",
       "\\item[Stratification2] 956638\n",
       "\\item[StratificationCategory3] 956638\n",
       "\\item[Stratification3] 956638\n",
       "\\item[GeoLocation] 8072\n",
       "\\item[ResponseID] 956638\n",
       "\\item[LocationID] 0\n",
       "\\item[TopicID] 0\n",
       "\\item[QuestionID] 0\n",
       "\\item[DataValueTypeID] 0\n",
       "\\item[StratificationCategoryID1] 0\n",
       "\\item[StratificationID1] 0\n",
       "\\item[StratificationCategoryID2] 956638\n",
       "\\item[StratificationID2] 956638\n",
       "\\item[StratificationCategoryID3] 956638\n",
       "\\item[StratificationID3] 956638\n",
       "\\end{description*}\n"
      ],
      "text/markdown": [
       "YearStart\n",
       ":   0YearEnd\n",
       ":   0LocationAbbr\n",
       ":   0LocationDesc\n",
       ":   0DataSource\n",
       ":   0Topic\n",
       ":   0Question\n",
       ":   0Response\n",
       ":   956638DataValueUnit\n",
       ":   125700DataValueType\n",
       ":   0DataValue\n",
       ":   310598DataValueAlt\n",
       ":   312425DataValueFootnoteSymbol\n",
       ":   632998DatavalueFootnote\n",
       ":   632998LowConfidenceLimit\n",
       ":   407694HighConfidenceLimit\n",
       ":   407694StratificationCategory1\n",
       ":   0Stratification1\n",
       ":   0StratificationCategory2\n",
       ":   956638Stratification2\n",
       ":   956638StratificationCategory3\n",
       ":   956638Stratification3\n",
       ":   956638GeoLocation\n",
       ":   8072ResponseID\n",
       ":   956638LocationID\n",
       ":   0TopicID\n",
       ":   0QuestionID\n",
       ":   0DataValueTypeID\n",
       ":   0StratificationCategoryID1\n",
       ":   0StratificationID1\n",
       ":   0StratificationCategoryID2\n",
       ":   956638StratificationID2\n",
       ":   956638StratificationCategoryID3\n",
       ":   956638StratificationID3\n",
       ":   956638\n",
       "\n"
      ],
      "text/plain": [
       "                YearStart                   YearEnd              LocationAbbr \n",
       "                        0                         0                         0 \n",
       "             LocationDesc                DataSource                     Topic \n",
       "                        0                         0                         0 \n",
       "                 Question                  Response             DataValueUnit \n",
       "                        0                    956638                    125700 \n",
       "            DataValueType                 DataValue              DataValueAlt \n",
       "                        0                    310598                    312425 \n",
       "  DataValueFootnoteSymbol         DatavalueFootnote        LowConfidenceLimit \n",
       "                   632998                    632998                    407694 \n",
       "      HighConfidenceLimit   StratificationCategory1           Stratification1 \n",
       "                   407694                         0                         0 \n",
       "  StratificationCategory2           Stratification2   StratificationCategory3 \n",
       "                   956638                    956638                    956638 \n",
       "          Stratification3               GeoLocation                ResponseID \n",
       "                   956638                      8072                    956638 \n",
       "               LocationID                   TopicID                QuestionID \n",
       "                        0                         0                         0 \n",
       "          DataValueTypeID StratificationCategoryID1         StratificationID1 \n",
       "                        0                         0                         0 \n",
       "StratificationCategoryID2         StratificationID2 StratificationCategoryID3 \n",
       "                   956638                    956638                    956638 \n",
       "        StratificationID3 \n",
       "                   956638 "
      ]
     },
     "metadata": {},
     "output_type": "display_data"
    }
   ],
   "source": [
    "colnames(df)\n",
    "data <- df[,-c(8,9,13,14,15,16,19,20,21,22,24,31,32,33,34)]\n",
    "missing_value <- sapply(df,function(x) sum(is.na(x)))\n",
    "missing_value"
   ]
  },
  {
   "cell_type": "code",
   "execution_count": 11,
   "id": "crucial-documentary",
   "metadata": {},
   "outputs": [
    {
     "name": "stdout",
     "output_type": "stream",
     "text": [
      "Observations: 956,638\n",
      "Variables: 19\n",
      "$ YearStart                 \u001b[3m\u001b[90m<dbl>\u001b[39m\u001b[23m 2010, 2010, 2010, 2008, 2009, 2011, 2012,...\n",
      "$ YearEnd                   \u001b[3m\u001b[90m<dbl>\u001b[39m\u001b[23m 2014, 2014, 2014, 2012, 2013, 2015, 2016,...\n",
      "$ LocationAbbr              \u001b[3m\u001b[90m<chr>\u001b[39m\u001b[23m \"AK\", \"AK\", \"AZ\", \"NY\", \"NY\", \"NY\", \"NY\",...\n",
      "$ LocationDesc              \u001b[3m\u001b[90m<chr>\u001b[39m\u001b[23m \"Alaska\", \"Alaska\", \"Arizona\", \"New York\"...\n",
      "$ DataSource                \u001b[3m\u001b[90m<chr>\u001b[39m\u001b[23m \"Death Certificate\", \"Death Certificate\",...\n",
      "$ Topic                     \u001b[3m\u001b[90m<chr>\u001b[39m\u001b[23m \"Cancer\", \"Cancer\", \"Cancer\", \"Cancer\", \"...\n",
      "$ Question                  \u001b[3m\u001b[90m<chr>\u001b[39m\u001b[23m \"Cancer of the oral cavity and pharynx, m...\n",
      "$ DataValueType             \u001b[3m\u001b[90m<chr>\u001b[39m\u001b[23m \"Average Annual Number\", \"Average Annual ...\n",
      "$ DataValue                 \u001b[3m\u001b[90m<chr>\u001b[39m\u001b[23m \"3\", \"15\", \"109\", \"329\", \"336\", \"344\", \"3...\n",
      "$ DataValueAlt              \u001b[3m\u001b[90m<dbl>\u001b[39m\u001b[23m 3, 15, 109, 329, 336, 344, 354, 90, 502, ...\n",
      "$ StratificationCategory1   \u001b[3m\u001b[90m<chr>\u001b[39m\u001b[23m \"Gender\", \"Overall\", \"Gender\", \"Gender\", ...\n",
      "$ Stratification1           \u001b[3m\u001b[90m<chr>\u001b[39m\u001b[23m \"Female\", \"Overall\", \"Male\", \"Male\", \"Mal...\n",
      "$ GeoLocation               \u001b[3m\u001b[90m<chr>\u001b[39m\u001b[23m \"POINT (-147.722059 64.84507996)\", \"POINT...\n",
      "$ LocationID                \u001b[3m\u001b[90m<dbl>\u001b[39m\u001b[23m 2, 2, 4, 36, 36, 36, 36, 40, 48, 59, 8, 8...\n",
      "$ TopicID                   \u001b[3m\u001b[90m<chr>\u001b[39m\u001b[23m \"CAN\", \"CAN\", \"CAN\", \"CAN\", \"CAN\", \"CAN\",...\n",
      "$ QuestionID                \u001b[3m\u001b[90m<chr>\u001b[39m\u001b[23m \"CAN10_2\", \"CAN10_2\", \"CAN10_2\", \"CAN10_2...\n",
      "$ DataValueTypeID           \u001b[3m\u001b[90m<chr>\u001b[39m\u001b[23m \"AVGANNNMBR\", \"AVGANNNMBR\", \"AVGANNNMBR\",...\n",
      "$ StratificationCategoryID1 \u001b[3m\u001b[90m<chr>\u001b[39m\u001b[23m \"GENDER\", \"OVERALL\", \"GENDER\", \"GENDER\", ...\n",
      "$ StratificationID1         \u001b[3m\u001b[90m<chr>\u001b[39m\u001b[23m \"GENF\", \"OVR\", \"GENM\", \"GENM\", \"GENM\", \"G...\n"
     ]
    }
   ],
   "source": [
    "glimpse(data)"
   ]
  }
 ],
 "metadata": {
  "kernelspec": {
   "display_name": "R",
   "language": "R",
   "name": "ir"
  },
  "language_info": {
   "codemirror_mode": "r",
   "file_extension": ".r",
   "mimetype": "text/x-r-source",
   "name": "R",
   "pygments_lexer": "r",
   "version": "3.6.1"
  }
 },
 "nbformat": 4,
 "nbformat_minor": 5
}
